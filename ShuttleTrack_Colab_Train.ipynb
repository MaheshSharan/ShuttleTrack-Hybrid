{
    "cells": [
     {
      "cell_type": "markdown",
      "metadata": {},
      "source": [
       "# 🏸 ShuttleTrack: Train on Google Colab\n\nThis notebook lets you train the ShuttleTrack Transformer-CNN Hybrid model on Google Colab and export the trained model for use on your local machine.\n\n---\n\n**Instructions:**\n- Your codebase should be on GitHub.\n- Your `processed_data/` folder should be on Google Drive.\n- This notebook follows the README steps for a smooth workflow."
      ]
     },
     {
      "cell_type": "markdown",
      "metadata": {},
      "source": [
       "## 1. Clone Your GitHub Repository\nReplace the URL below with your repo URL."
      ]
     },
     {
      "cell_type": "code",
      "metadata": {},
      "source": [
       "# Example: !git clone https://github.com/yourusername/ShuttleTrack.git\n!git clone https://github.com/yourusername/ShuttleTrack.git\n%cd ShuttleTrack\n"
      ]
     },
     {
      "cell_type": "markdown",
      "metadata": {},
      "source": [
       "## 2. Install Requirements"
      ]
     },
     {
      "cell_type": "code",
      "metadata": {},
      "source": [
       "!pip install -r requirements.txt\n!pip install tensorboard\n"
      ]
     },
     {
      "cell_type": "markdown",
      "metadata": {},
      "source": [
       "## 3. Mount Google Drive and Link `processed_data/`"
      ]
     },
     {
      "cell_type": "code",
      "metadata": {},
      "source": [
       "from google.colab import drive\ndrive.mount('/content/drive')\n\n# Symlink processed_data from Google Drive (edit the path as needed)\n!ln -s /content/drive/MyDrive/processed_data processed_data\n!ls processed_data\n"
      ]
     },
     {
      "cell_type": "markdown",
      "metadata": {},
      "source": [
       "## 4. (Optional) Edit Config\nSet device to 'cuda' and adjust batch size for Colab GPU."
      ]
     },
     {
      "cell_type": "code",
      "metadata": {},
      "source": [
       "import yaml\nwith open('config/shuttletrack.yaml') as f:\n    config = yaml.safe_load(f)\nconfig['device'] = 'cuda'\nconfig['training']['batch_size'] = 16\nwith open('config/shuttletrack.yaml', 'w') as f:\n    yaml.dump(config, f)\n"
      ]
     },
     {
      "cell_type": "markdown",
      "metadata": {},
      "source": [
       "## 5. Test Data Loader\nSanity check: should print sample shapes and not error."
      ]
     },
     {
      "cell_type": "code",
      "metadata": {},
      "source": [
       "!python test/test_dataset.py\n"
      ]
     },
     {
      "cell_type": "markdown",
      "metadata": {},
      "source": [
       "## 6. Test Model Instantiation\nSanity check: should print model output shape."
      ]
     },
     {
      "cell_type": "code",
      "metadata": {},
      "source": [
       "!python test/test_model.py\n"
      ]
     },
     {
      "cell_type": "markdown",
      "metadata": {},
      "source": [
       "## 7. Train the Model\nThis will log to TensorBoard (runs/shuttletrack)."
      ]
     },
     {
      "cell_type": "code",
      "metadata": {},
      "source": [
       "!python scripts/train.py\n"
      ]
     },
     {
      "cell_type": "markdown",
      "metadata": {},
      "source": [
       "## 8. Monitor Training with TensorBoard"
      ]
     },
     {
      "cell_type": "code",
      "metadata": {},
      "source": [
       "%load_ext tensorboard\n%tensorboard --logdir runs\n"
      ]
     },
     {
      "cell_type": "markdown",
      "metadata": {},
      "source": [
       "## 9. Download the Trained Model\nAfter training, download the best checkpoint to your local machine."
      ]
     },
     {
      "cell_type": "code",
      "metadata": {},
      "source": [
       "from google.colab import files\nfiles.download('checkpoint_best.pth')\n"
      ]
     }
    ],
    "metadata": {
     "kernelspec": {
      "display_name": "Python 3",
      "language": "python",
      "name": "python3"
     },
     "language_info": {
      "name": "python",
      "version": "3.8"
     }
    },
    "nbformat": 4,
    "nbformat_minor": 0
   }
   