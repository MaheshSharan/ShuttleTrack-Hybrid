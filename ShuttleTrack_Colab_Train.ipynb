{
 "cells": [
  {
   "cell_type": "markdown",
   "metadata": {},
   "source": [
    "# 🏸 ShuttleTrack: Train on Google Colab\n",
    "\n",
    "This notebook lets you train the ShuttleTrack Transformer-CNN Hybrid model on Google Colab and export the trained model for use on your local machine.\n",
    "\n",
    "---\n",
    "\n",
    "**Instructions:**\n",
    "- Your codebase should be on GitHub.\n",
    "- Your `processed_data/` folder should be on Google Drive.\n",
    "- This notebook follows the README steps for a smooth workflow."
   ]
  },
  {
   "cell_type": "markdown",
   "metadata": {},
   "source": [
    "## 1. Clone Your GitHub Repository\n",
    "Replace the URL below with your repo URL."
   ]
  },
  {
   "cell_type": "code",
   "execution_count": null,
   "metadata": {},
   "outputs": [],
   "source": [
    "# Example: !git clone https://github.com/yourusername/ShuttleTrack.git\n",
    "!git clone https://github.com/yourusername/ShuttleTrack.git\n",
    "%cd ShuttleTrack\n"
   ]
  },
  {
   "cell_type": "markdown",
   "metadata": {},
   "source": [
    "## 2. Install Requirements"
   ]
  },
  {
   "cell_type": "code",
   "execution_count": null,
   "metadata": {},
   "outputs": [],
   "source": [
    "!pip install -r requirements.txt\n",
    "!pip install tensorboard\n"
   ]
  },
  {
   "cell_type": "markdown",
   "metadata": {},
   "source": [
    "## 3. Download Preprocessed Dataset from Kaggle\\nIf you haven't already, upload your preprocessed dataset to Kaggle Datasets. This cell will download and unzip it into the `processed_data/` folder."
   ]
  },
  {
   "cell_type": "code",
   "execution_count": null,
   "metadata": {},
   "outputs": [],
   "source": [
    "!pip install -q kaggle\n",
    "\n",
    "# Upload your kaggle.json (Kaggle API token)\n",
    "from google.colab import files\n",
    "files.upload()  # Choose the kaggle.json file from your computer\n",
    "\n",
    "# Move kaggle.json to the correct location\n",
    "!mkdir -p ~/.kaggle\n",
    "!cp kaggle.json ~/.kaggle/\n",
    "!chmod 600 ~/.kaggle/kaggle.json\n",
    "\n",
    "# Download your dataset from Kaggle (using your actual dataset path)\n",
    "!kaggle datasets download -d maheshsharan/shuttletrack-processed-data -p processed_data --unzip\n",
    "\n",
    "# List the contents to verify\n",
    "!ls processed_data"
   ]
  },
  {
   "cell_type": "markdown",
   "metadata": {},
   "source": [
    "## 4. (Optional) Edit Config\n",
    "Set device to 'cuda' and adjust batch size for Colab GPU."
   ]
  },
  {
   "cell_type": "code",
   "execution_count": null,
   "metadata": {},
   "outputs": [],
   "source": [
    "import yaml\n",
    "with open('config/shuttletrack.yaml') as f:\n",
    "    config = yaml.safe_load(f)\n",
    "config['device'] = 'cuda'\n",
    "config['training']['batch_size'] = 16\n",
    "with open('config/shuttletrack.yaml', 'w') as f:\n",
    "    yaml.dump(config, f)\n"
   ]
  },
  {
   "cell_type": "markdown",
   "metadata": {},
   "source": [
    "## 5. Test Data Loader\n",
    "Sanity check: should print sample shapes and not error."
   ]
  },
  {
   "cell_type": "code",
   "execution_count": null,
   "metadata": {},
   "outputs": [],
   "source": [
    "!python test/test_dataset.py\n"
   ]
  },
  {
   "cell_type": "markdown",
   "metadata": {},
   "source": [
    "## 6. Test Model Instantiation\n",
    "Sanity check: should print model output shape."
   ]
  },
  {
   "cell_type": "code",
   "execution_count": null,
   "metadata": {},
   "outputs": [],
   "source": [
    "!python test/test_model.py\n"
   ]
  },
  {
   "cell_type": "markdown",
   "metadata": {},
   "source": [
    "## 7. Train the Model\n",
    "This will log to TensorBoard (runs/shuttletrack)."
   ]
  },
  {
   "cell_type": "code",
   "execution_count": null,
   "metadata": {},
   "outputs": [],
   "source": [
    "!python scripts/train.py\n"
   ]
  },
  {
   "cell_type": "markdown",
   "metadata": {},
   "source": [
    "## 8. Monitor Training with TensorBoard"
   ]
  },
  {
   "cell_type": "code",
   "execution_count": null,
   "metadata": {},
   "outputs": [],
   "source": [
    "%load_ext tensorboard\n",
    "%tensorboard --logdir runs\n"
   ]
  },
  {
   "cell_type": "markdown",
   "metadata": {},
   "source": [
    "## 9. Download the Trained Model\n",
    "After training, download the best checkpoint to your local machine."
   ]
  },
  {
   "cell_type": "code",
   "execution_count": null,
   "metadata": {},
   "outputs": [],
   "source": [
    "from google.colab import files\n",
    "files.download('checkpoint_best.pth')\n"
   ]
  }
 ],
 "metadata": {
  "kernelspec": {
   "display_name": "Python 3",
   "language": "python",
   "name": "python3"
  },
  "language_info": {
   "name": "python",
   "version": "3.8"
  }
 },
 "nbformat": 4,
 "nbformat_minor": 0
}
